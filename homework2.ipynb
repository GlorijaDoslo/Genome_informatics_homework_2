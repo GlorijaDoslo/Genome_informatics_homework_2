{
 "cells": [
  {
   "cell_type": "code",
   "execution_count": 1,
   "metadata": {},
   "outputs": [],
   "source": [
    "import pysam\n",
    "pysam.index(\"./merged-tumor.bam\")\n",
    "bam_file = pysam.AlignmentFile(\"./merged-tumor.bam\", \"rb\")"
   ]
  },
  {
   "cell_type": "code",
   "execution_count": 2,
   "metadata": {},
   "outputs": [
    {
     "data": {
      "text/plain": [
       "('1',\n",
       " '2',\n",
       " '3',\n",
       " '4',\n",
       " '5',\n",
       " '6',\n",
       " '7',\n",
       " '8',\n",
       " '9',\n",
       " '10',\n",
       " '11',\n",
       " '12',\n",
       " '13',\n",
       " '14',\n",
       " '15',\n",
       " '16',\n",
       " '17',\n",
       " '18',\n",
       " '19',\n",
       " '20',\n",
       " '21',\n",
       " '22',\n",
       " 'X',\n",
       " 'Y',\n",
       " 'MT',\n",
       " 'GL000207.1',\n",
       " 'GL000226.1',\n",
       " 'GL000229.1',\n",
       " 'GL000231.1',\n",
       " 'GL000210.1',\n",
       " 'GL000239.1',\n",
       " 'GL000235.1',\n",
       " 'GL000201.1',\n",
       " 'GL000247.1',\n",
       " 'GL000245.1',\n",
       " 'GL000197.1',\n",
       " 'GL000203.1',\n",
       " 'GL000246.1',\n",
       " 'GL000249.1',\n",
       " 'GL000196.1',\n",
       " 'GL000248.1',\n",
       " 'GL000244.1',\n",
       " 'GL000238.1',\n",
       " 'GL000202.1',\n",
       " 'GL000234.1',\n",
       " 'GL000232.1',\n",
       " 'GL000206.1',\n",
       " 'GL000240.1',\n",
       " 'GL000236.1',\n",
       " 'GL000241.1',\n",
       " 'GL000243.1',\n",
       " 'GL000242.1',\n",
       " 'GL000230.1',\n",
       " 'GL000237.1',\n",
       " 'GL000233.1',\n",
       " 'GL000204.1',\n",
       " 'GL000198.1',\n",
       " 'GL000208.1',\n",
       " 'GL000191.1',\n",
       " 'GL000227.1',\n",
       " 'GL000228.1',\n",
       " 'GL000214.1',\n",
       " 'GL000221.1',\n",
       " 'GL000209.1',\n",
       " 'GL000218.1',\n",
       " 'GL000220.1',\n",
       " 'GL000213.1',\n",
       " 'GL000211.1',\n",
       " 'GL000199.1',\n",
       " 'GL000217.1',\n",
       " 'GL000216.1',\n",
       " 'GL000215.1',\n",
       " 'GL000205.1',\n",
       " 'GL000219.1',\n",
       " 'GL000224.1',\n",
       " 'GL000223.1',\n",
       " 'GL000195.1',\n",
       " 'GL000212.1',\n",
       " 'GL000222.1',\n",
       " 'GL000200.1',\n",
       " 'GL000193.1',\n",
       " 'GL000194.1',\n",
       " 'GL000225.1',\n",
       " 'GL000192.1',\n",
       " 'NC_007605',\n",
       " 'hs37d5')"
      ]
     },
     "execution_count": 2,
     "metadata": {},
     "output_type": "execute_result"
    }
   ],
   "source": [
    "bam_file.references"
   ]
  },
  {
   "cell_type": "code",
   "execution_count": 3,
   "metadata": {},
   "outputs": [
    {
     "data": {
      "text/plain": [
       "(249250621,\n",
       " 243199373,\n",
       " 198022430,\n",
       " 191154276,\n",
       " 180915260,\n",
       " 171115067,\n",
       " 159138663,\n",
       " 146364022,\n",
       " 141213431,\n",
       " 135534747,\n",
       " 135006516,\n",
       " 133851895,\n",
       " 115169878,\n",
       " 107349540,\n",
       " 102531392,\n",
       " 90354753,\n",
       " 81195210,\n",
       " 78077248,\n",
       " 59128983,\n",
       " 63025520,\n",
       " 48129895,\n",
       " 51304566,\n",
       " 155270560,\n",
       " 59373566,\n",
       " 16569,\n",
       " 4262,\n",
       " 15008,\n",
       " 19913,\n",
       " 27386,\n",
       " 27682,\n",
       " 33824,\n",
       " 34474,\n",
       " 36148,\n",
       " 36422,\n",
       " 36651,\n",
       " 37175,\n",
       " 37498,\n",
       " 38154,\n",
       " 38502,\n",
       " 38914,\n",
       " 39786,\n",
       " 39929,\n",
       " 39939,\n",
       " 40103,\n",
       " 40531,\n",
       " 40652,\n",
       " 41001,\n",
       " 41933,\n",
       " 41934,\n",
       " 42152,\n",
       " 43341,\n",
       " 43523,\n",
       " 43691,\n",
       " 45867,\n",
       " 45941,\n",
       " 81310,\n",
       " 90085,\n",
       " 92689,\n",
       " 106433,\n",
       " 128374,\n",
       " 129120,\n",
       " 137718,\n",
       " 155397,\n",
       " 159169,\n",
       " 161147,\n",
       " 161802,\n",
       " 164239,\n",
       " 166566,\n",
       " 169874,\n",
       " 172149,\n",
       " 172294,\n",
       " 172545,\n",
       " 174588,\n",
       " 179198,\n",
       " 179693,\n",
       " 180455,\n",
       " 182896,\n",
       " 186858,\n",
       " 186861,\n",
       " 187035,\n",
       " 189789,\n",
       " 191469,\n",
       " 211173,\n",
       " 547496,\n",
       " 171823,\n",
       " 35477943)"
      ]
     },
     "execution_count": 3,
     "metadata": {},
     "output_type": "execute_result"
    }
   ],
   "source": [
    "bam_file.lengths"
   ]
  },
  {
   "cell_type": "code",
   "execution_count": 4,
   "metadata": {},
   "outputs": [
    {
     "name": "stdout",
     "output_type": "stream",
     "text": [
      "C0HVYACXX120402:7:1207:5722:57044\t1187\t#20\t9483249\t27\t76M\t#20\t9483382\t209\tTTTTCAAACAGTATCTATGCCTGCCAAATGTGAACATATAAAAAAAAACCAGAATGTGCCATTCTGATTTAAACTG\tarray('B', [28, 28, 27, 29, 31, 30, 31, 31, 29, 31, 35, 30, 29, 31, 34, 30, 29, 23, 41, 32, 20, 30, 29, 34, 34, 29, 30, 31, 30, 30, 30, 33, 33, 26, 39, 12, 25, 19, 32, 30, 35, 28, 35, 33, 23, 33, 35, 36, 30, 38, 33, 41, 34, 35, 31, 33, 23, 30, 30, 36, 27, 32, 29, 34, 35, 41, 33, 31, 33, 29, 32, 32, 31, 31, 31, 34])\t[('XA', 'GL000217.1,-110754,76M,1;'), ('BD', 'NNNNNNNNNNNNNNNNNNNNNNNNNNNNNNNNNNNNNNNNNNNNNNNNNNNNNNNNNNNNNNNNNNNNNNNNNNNN'), ('MD', '76'), ('RG', '1'), ('BI', 'NNNNNNNNNNNNNNNNNNNNNNNNNNNNNNNNNNNNNNNNNNNNNNNNNNNNNNNNNNNNNNNNNNNNNNNNNNNN'), ('NM', 0), ('MQ', 27), ('AS', 76), ('XS', 71)]\n"
     ]
    }
   ],
   "source": [
    "for read in bam_file:\n",
    "    print(read)\n",
    "    break"
   ]
  },
  {
   "cell_type": "markdown",
   "metadata": {},
   "source": [
    "In one read there are the following informations separated by tab:\n",
    "1. **QueryName (QNAME)** - contains name of the read\n",
    "2. **Flags (FLAG)** - integer value that contains bitwise flags summarizing various properties of the read alignment\n",
    "3. **Reference Name (RNAME)** - name of the reference sequence to which the read has been aligned\n",
    "4. **Position (POS)** - 1-based leftmost mapping position of the first CIGAR operation that “consumes” a reference base\n",
    "5. **Mapping Quality (MAPQ)** - mapping quality of read\n",
    "6. **CIGAR string (CIGAR)** - describes alignment details in terms of operations like match, mismatch, insertion, deletion, and length of those operations\n",
    "7. **Mate Reference Name (MRNM)** - contains reference name of the mate/next read\n",
    "8. **Mate Position (MPOS)** - represents 1-based mapping position of the mate/next read\n",
    "9. **Template Length (TLEN)** - represents signed observed template length\n",
    "10. **Segment Sequence (SEQ)** - represents the actual sequence of nucleotides in the read. It is the sequence of bases that were sequenced by the sequencing machine. It is usually represented as a string of letters corresponding to the nucleotides (A, C, G, T, and sometimes N for ambiguous bases)\n",
    "11. **ASCII of base quality (QUAL)** - represents the base quality scores associated with each base in the sequence. Base quality scores indicate the confidence level of each base call. They are typically represented as ASCII characters, with each character corresponding to a numerical value representing the Phred quality score. These scores are usually generated by the sequencing machine during the sequencing process. A higher quality score indicates a higher confidence in the base call.\n",
    "12. **Some of alignment tags (Optional fields):**\n",
    "    XA - alternative mapping positions for the read\n",
    "    BD - per-base attributes of the aligned read\n",
    "    MD - describes the mismatches and deletions in the read alignment compared to the reference\n",
    "    RG - indicates the read group to which the read belongs\n",
    "    BI - provides the per-base alignment index\n",
    "    NM - indicates the number of mismatches in the alignment\n",
    "    MQ - represents the mapping quality of the read\n",
    "    AS - represents the alignment score\n",
    "    XS - represents the alignment score for the best alignment found"
   ]
  },
  {
   "cell_type": "markdown",
   "metadata": {},
   "source": [
    "How many unmapped reads are in the file?"
   ]
  },
  {
   "cell_type": "code",
   "execution_count": 5,
   "metadata": {},
   "outputs": [
    {
     "name": "stdout",
     "output_type": "stream",
     "text": [
      "Number of unmapped reads is 17765\n"
     ]
    }
   ],
   "source": [
    "# samtools view -c -f 4 merged-tumor.bam\n",
    "# output: 17765\n",
    "\n",
    "unmapped_reads = [read for read in bam_file.fetch(until_eof=True) if read.is_unmapped]\n",
    "\n",
    "print(\"Number of unmapped reads is\", len(unmapped_reads))"
   ]
  },
  {
   "cell_type": "markdown",
   "metadata": {},
   "source": [
    "Calculate total number of reads"
   ]
  },
  {
   "cell_type": "code",
   "execution_count": 6,
   "metadata": {},
   "outputs": [
    {
     "name": "stdout",
     "output_type": "stream",
     "text": [
      "Total number of reads is 2921629\n"
     ]
    }
   ],
   "source": [
    "# samtools view -c merged-tumor.bam\n",
    "# output: 2921629\n",
    "\n",
    "num_reads = bam_file.count()\n",
    "\n",
    "print(\"Total number of reads is\", num_reads)"
   ]
  },
  {
   "cell_type": "markdown",
   "metadata": {},
   "source": [
    "Calculate number of reads with mapping quality 0"
   ]
  },
  {
   "cell_type": "code",
   "execution_count": 7,
   "metadata": {},
   "outputs": [
    {
     "name": "stdout",
     "output_type": "stream",
     "text": [
      "Number of reads with mapping quality 0 is 126628\n"
     ]
    }
   ],
   "source": [
    "# samtools view -c merged-tumor.bam\n",
    "# output: 2921629\n",
    "# samtools view -c -q 1 merged-tumor.bam\n",
    "# output: 2795001\n",
    "# 2921629 - 2795001 = 126628\n",
    "\n",
    "num_of_zero_mapping_quality_reads = sum(1 for read in bam_file.fetch() if read.mapping_quality == 0)\n",
    "\n",
    "print(\"Number of reads with mapping quality 0 is\", num_of_zero_mapping_quality_reads)"
   ]
  },
  {
   "cell_type": "markdown",
   "metadata": {},
   "source": [
    "Calculate average mapping quality for all the reads"
   ]
  },
  {
   "cell_type": "code",
   "execution_count": 8,
   "metadata": {},
   "outputs": [
    {
     "name": "stdout",
     "output_type": "stream",
     "text": [
      "Average mapping quality for all reads is 55.91379158681681\n"
     ]
    }
   ],
   "source": [
    "total_mapping_quality = sum(read.mapping_quality for read in bam_file.fetch())\n",
    "\n",
    "average_mapping_quality = total_mapping_quality / num_reads if num_reads > 0 else 0\n",
    "\n",
    "print(\"Average mapping quality for all reads is\", average_mapping_quality)"
   ]
  },
  {
   "cell_type": "markdown",
   "metadata": {},
   "source": [
    "Calculate average mapping quality if reads with 0 mapping quality are filtered out"
   ]
  },
  {
   "cell_type": "code",
   "execution_count": 9,
   "metadata": {},
   "outputs": [
    {
     "name": "stdout",
     "output_type": "stream",
     "text": [
      "Average mapping quality for all reads is 58.446975510921106\n"
     ]
    }
   ],
   "source": [
    "total_mapping_quality = 0\n",
    "num_reads = 0\n",
    "\n",
    "for read in bam_file.fetch():\n",
    "    if read.mapping_quality > 0:\n",
    "        total_mapping_quality += read.mapping_quality\n",
    "        num_reads += 1\n",
    "\n",
    "average_mapping_quality = total_mapping_quality / num_reads if num_reads > 0 else 0\n",
    "\n",
    "bam_file.close()\n",
    "\n",
    "print(\"Average mapping quality for all reads is\", average_mapping_quality)"
   ]
  }
 ],
 "metadata": {
  "kernelspec": {
   "display_name": "Python 3",
   "language": "python",
   "name": "python3"
  },
  "language_info": {
   "codemirror_mode": {
    "name": "ipython",
    "version": 3
   },
   "file_extension": ".py",
   "mimetype": "text/x-python",
   "name": "python",
   "nbconvert_exporter": "python",
   "pygments_lexer": "ipython3",
   "version": "3.10.12"
  }
 },
 "nbformat": 4,
 "nbformat_minor": 2
}
